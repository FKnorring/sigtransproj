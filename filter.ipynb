{
 "cells": [
  {
   "cell_type": "code",
   "execution_count": null,
   "metadata": {},
   "outputs": [],
   "source": [
    "from cmath import inf\n",
    "import numpy as np\n",
    "import matplotlib.pyplot as plt\n",
    "from scipy import signal"
   ]
  },
  {
   "cell_type": "code",
   "execution_count": null,
   "metadata": {},
   "outputs": [],
   "source": [
    "#Make a bandpass filter from 850 to 1150 hz\n",
    "\n",
    "N, wn = signal.buttord(ws = [850, 1150], wp = [900, 1100], gpass=2, gstop=30, analog=True)\n",
    "\n",
    "bb , ab = signal.butter(N, wn , btype='bandpass',analog=True)\n",
    "\n",
    "w, h = signal.freqs(bb, ab, worN=50000)\n",
    "\n",
    "plt.figure()\n",
    "plt.plot(w, (abs(h)))\n",
    "plt.xlim(700, 1300)\n",
    "plt.title('Bandpass filter')"
   ]
  },
  {
   "cell_type": "code",
   "execution_count": null,
   "metadata": {},
   "outputs": [],
   "source": [
    "#Make a low pass filter with a cutoff frequency of 100 Hz\n",
    "\n",
    "N, wn = signal.buttord(wp = 100, ws = 150, gpass=2, gstop=30, analog=True)\n",
    "\n",
    "bb , ab = signal.butter(N, wn , btype='lowpass',analog=True)\n",
    "\n",
    "w, h = signal.freqs(bb, ab, worN=50000)\n",
    "\n",
    "plt.figure()\n",
    "plt.plot(w, (abs(h)))\n",
    "plt.xlim(0, 300)\n",
    "plt.title('Lowpass filter')"
   ]
  }
 ],
 "metadata": {
  "language_info": {
   "name": "python"
  },
  "orig_nbformat": 4
 },
 "nbformat": 4,
 "nbformat_minor": 2
}
